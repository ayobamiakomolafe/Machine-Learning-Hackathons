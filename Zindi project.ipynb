{
    "cells": [
        {
            "cell_type": "markdown",
            "metadata": {},
            "source": "# Expresso Churn Prediction"
        },
        {
            "cell_type": "markdown",
            "metadata": {},
            "source": "## This Notebook is a classification algorithm that predicts whether an expresso customer(network provider) will churn or not churn"
        },
        {
            "cell_type": "markdown",
            "metadata": {},
            "source": "## Import the train Datasets"
        },
        {
            "cell_type": "code",
            "execution_count": 4,
            "metadata": {},
            "outputs": [
                {
                    "data": {
                        "text/html": "<div>\n<style scoped>\n    .dataframe tbody tr th:only-of-type {\n        vertical-align: middle;\n    }\n\n    .dataframe tbody tr th {\n        vertical-align: top;\n    }\n\n    .dataframe thead th {\n        text-align: right;\n    }\n</style>\n<table border=\"1\" class=\"dataframe\">\n  <thead>\n    <tr style=\"text-align: right;\">\n      <th></th>\n      <th>user_id</th>\n      <th>REGION</th>\n      <th>TENURE</th>\n      <th>MONTANT</th>\n      <th>FREQUENCE_RECH</th>\n      <th>REVENUE</th>\n      <th>ARPU_SEGMENT</th>\n      <th>FREQUENCE</th>\n      <th>DATA_VOLUME</th>\n      <th>ON_NET</th>\n      <th>ORANGE</th>\n      <th>TIGO</th>\n      <th>ZONE1</th>\n      <th>ZONE2</th>\n      <th>MRG</th>\n      <th>REGULARITY</th>\n      <th>TOP_PACK</th>\n      <th>FREQ_TOP_PACK</th>\n      <th>CHURN</th>\n    </tr>\n  </thead>\n  <tbody>\n    <tr>\n      <th>0</th>\n      <td>dcf68cc2fb515ccad7d8b9b3bd80ee2a4b270063</td>\n      <td>SAINT-LOUIS</td>\n      <td>K &gt; 24 month</td>\n      <td>17000.0</td>\n      <td>32.0</td>\n      <td>18000.0</td>\n      <td>6000.0</td>\n      <td>34.0</td>\n      <td>NaN</td>\n      <td>97.0</td>\n      <td>355.0</td>\n      <td>6.0</td>\n      <td>NaN</td>\n      <td>NaN</td>\n      <td>NO</td>\n      <td>62</td>\n      <td>All-net 500F=2000F;5d</td>\n      <td>35.0</td>\n      <td>0</td>\n    </tr>\n    <tr>\n      <th>1</th>\n      <td>71c44b5ba328db5c4192a80f7cf8f244d9350ed0</td>\n      <td>NaN</td>\n      <td>K &gt; 24 month</td>\n      <td>4300.0</td>\n      <td>29.0</td>\n      <td>4427.0</td>\n      <td>1476.0</td>\n      <td>37.0</td>\n      <td>1764.0</td>\n      <td>8.0</td>\n      <td>3.0</td>\n      <td>0.0</td>\n      <td>NaN</td>\n      <td>2.0</td>\n      <td>NO</td>\n      <td>40</td>\n      <td>Data: 100 F=40MB,24H</td>\n      <td>22.0</td>\n      <td>0</td>\n    </tr>\n    <tr>\n      <th>2</th>\n      <td>ce46411b1526c94f20a383b8cb188f8d27f82a0a</td>\n      <td>TAMBACOUNDA</td>\n      <td>K &gt; 24 month</td>\n      <td>1500.0</td>\n      <td>3.0</td>\n      <td>1500.0</td>\n      <td>500.0</td>\n      <td>3.0</td>\n      <td>NaN</td>\n      <td>30.0</td>\n      <td>30.0</td>\n      <td>NaN</td>\n      <td>NaN</td>\n      <td>NaN</td>\n      <td>NO</td>\n      <td>32</td>\n      <td>All-net 500F=2000F;5d</td>\n      <td>3.0</td>\n      <td>0</td>\n    </tr>\n    <tr>\n      <th>3</th>\n      <td>f467cdb6669818373c26c2bad44e01ba66f97d21</td>\n      <td>FATICK</td>\n      <td>K &gt; 24 month</td>\n      <td>1500.0</td>\n      <td>3.0</td>\n      <td>2497.0</td>\n      <td>832.0</td>\n      <td>4.0</td>\n      <td>0.0</td>\n      <td>159.0</td>\n      <td>45.0</td>\n      <td>19.0</td>\n      <td>NaN</td>\n      <td>NaN</td>\n      <td>NO</td>\n      <td>18</td>\n      <td>On net 200F=Unlimited _call24H</td>\n      <td>3.0</td>\n      <td>0</td>\n    </tr>\n    <tr>\n      <th>4</th>\n      <td>ec45e1a1888a32b5dcce0954cfec20c6e037db31</td>\n      <td>FATICK</td>\n      <td>K &gt; 24 month</td>\n      <td>NaN</td>\n      <td>NaN</td>\n      <td>498.0</td>\n      <td>166.0</td>\n      <td>3.0</td>\n      <td>1.0</td>\n      <td>1.0</td>\n      <td>3.0</td>\n      <td>NaN</td>\n      <td>NaN</td>\n      <td>NaN</td>\n      <td>NO</td>\n      <td>50</td>\n      <td>NaN</td>\n      <td>NaN</td>\n      <td>0</td>\n    </tr>\n  </tbody>\n</table>\n</div>",
                        "text/plain": "                                    user_id       REGION        TENURE  \\\n0  dcf68cc2fb515ccad7d8b9b3bd80ee2a4b270063  SAINT-LOUIS  K > 24 month   \n1  71c44b5ba328db5c4192a80f7cf8f244d9350ed0          NaN  K > 24 month   \n2  ce46411b1526c94f20a383b8cb188f8d27f82a0a  TAMBACOUNDA  K > 24 month   \n3  f467cdb6669818373c26c2bad44e01ba66f97d21       FATICK  K > 24 month   \n4  ec45e1a1888a32b5dcce0954cfec20c6e037db31       FATICK  K > 24 month   \n\n   MONTANT  FREQUENCE_RECH  REVENUE  ARPU_SEGMENT  FREQUENCE  DATA_VOLUME  \\\n0  17000.0            32.0  18000.0        6000.0       34.0          NaN   \n1   4300.0            29.0   4427.0        1476.0       37.0       1764.0   \n2   1500.0             3.0   1500.0         500.0        3.0          NaN   \n3   1500.0             3.0   2497.0         832.0        4.0          0.0   \n4      NaN             NaN    498.0         166.0        3.0          1.0   \n\n   ON_NET  ORANGE  TIGO  ZONE1  ZONE2 MRG  REGULARITY  \\\n0    97.0   355.0   6.0    NaN    NaN  NO          62   \n1     8.0     3.0   0.0    NaN    2.0  NO          40   \n2    30.0    30.0   NaN    NaN    NaN  NO          32   \n3   159.0    45.0  19.0    NaN    NaN  NO          18   \n4     1.0     3.0   NaN    NaN    NaN  NO          50   \n\n                         TOP_PACK  FREQ_TOP_PACK  CHURN  \n0           All-net 500F=2000F;5d           35.0      0  \n1            Data: 100 F=40MB,24H           22.0      0  \n2           All-net 500F=2000F;5d            3.0      0  \n3  On net 200F=Unlimited _call24H            3.0      0  \n4                             NaN            NaN      0  "
                    },
                    "execution_count": 4,
                    "metadata": {},
                    "output_type": "execute_result"
                }
            ],
            "source": "# The code was removed by Watson Studio for sharing."
        },
        {
            "cell_type": "markdown",
            "metadata": {},
            "source": "## Data Wrangling"
        },
        {
            "cell_type": "markdown",
            "metadata": {},
            "source": "# Replacing Nans"
        },
        {
            "cell_type": "code",
            "execution_count": 5,
            "metadata": {},
            "outputs": [],
            "source": "import numpy as np\ndf['REGION'].replace(np.nan, 'DAKAR', inplace=True)"
        },
        {
            "cell_type": "code",
            "execution_count": 6,
            "metadata": {},
            "outputs": [],
            "source": "df['TOP_PACK'].replace(np.nan, 'All-net 500F=2000F;5d', inplace=True)"
        },
        {
            "cell_type": "code",
            "execution_count": 7,
            "metadata": {},
            "outputs": [],
            "source": "col=df.columns[3:14]\nfor i in col:\n    mean=df[i].mean()\n    df[i].replace(np.nan, mean, inplace=True)"
        },
        {
            "cell_type": "code",
            "execution_count": 8,
            "metadata": {},
            "outputs": [],
            "source": "mean=df['FREQ_TOP_PACK'].mean()\ndf['FREQ_TOP_PACK'].replace(np.nan, mean, inplace=True)"
        },
        {
            "cell_type": "markdown",
            "metadata": {},
            "source": "# Convert Categorical variables to Num"
        },
        {
            "cell_type": "code",
            "execution_count": null,
            "metadata": {},
            "outputs": [],
            "source": ""
        },
        {
            "cell_type": "code",
            "execution_count": 9,
            "metadata": {},
            "outputs": [],
            "source": "un_re=df['REGION'].unique()\nnum=range(14)\ndic_region=dict()\nfor a,b in zip(un_re, num):\n    dic_region[a]=b\n    df['REGION'].replace(a, b, inplace=True)\n"
        },
        {
            "cell_type": "code",
            "execution_count": 10,
            "metadata": {},
            "outputs": [],
            "source": "un_te=df['TENURE'].unique()\nnum=range(8)\ndic_tenure=dict()\nfor a,b in zip(un_te, num):\n    dic_tenure[a]=b\n    df['TENURE'].replace(a, b, inplace=True)"
        },
        {
            "cell_type": "code",
            "execution_count": 11,
            "metadata": {},
            "outputs": [],
            "source": "un_to=df['TOP_PACK'].unique()\nnum=range(111)\ndic_top_pack=dict()\nfor a,b in zip(un_to, num):\n    dic_top_pack[a]=b\n    df['TOP_PACK'].replace(a, b, inplace=True)"
        },
        {
            "cell_type": "code",
            "execution_count": 12,
            "metadata": {
                "scrolled": true
            },
            "outputs": [],
            "source": "df['MRG'].replace('NO', 0, inplace=True)"
        },
        {
            "cell_type": "code",
            "execution_count": null,
            "metadata": {},
            "outputs": [],
            "source": ""
        },
        {
            "cell_type": "markdown",
            "metadata": {},
            "source": "## Select feature sets"
        },
        {
            "cell_type": "code",
            "execution_count": 14,
            "metadata": {},
            "outputs": [
                {
                    "data": {
                        "text/plain": "(400000, 17)"
                    },
                    "execution_count": 14,
                    "metadata": {},
                    "output_type": "execute_result"
                }
            ],
            "source": "X=df[['REGION', 'TENURE', 'MONTANT', 'FREQUENCE_RECH', 'REVENUE',\n       'ARPU_SEGMENT', 'FREQUENCE', 'DATA_VOLUME', 'ON_NET', 'ORANGE', 'TIGO',\n       'ZONE1', 'ZONE2', 'MRG', 'REGULARITY', 'TOP_PACK', 'FREQ_TOP_PACK']]\nX.shape"
        },
        {
            "cell_type": "code",
            "execution_count": 15,
            "metadata": {},
            "outputs": [],
            "source": "Y=df[['CHURN']]"
        },
        {
            "cell_type": "markdown",
            "metadata": {},
            "source": "## Import libraries from sklearn and scale datasets"
        },
        {
            "cell_type": "code",
            "execution_count": 16,
            "metadata": {},
            "outputs": [],
            "source": "from sklearn.model_selection import cross_val_score\nfrom sklearn.preprocessing import StandardScaler\nfrom sklearn.linear_model import LogisticRegression"
        },
        {
            "cell_type": "code",
            "execution_count": 46,
            "metadata": {},
            "outputs": [
                {
                    "name": "stderr",
                    "output_type": "stream",
                    "text": "/opt/conda/envs/Python36/lib/python3.6/site-packages/sklearn/preprocessing/data.py:645: DataConversionWarning: Data with input dtype int64, float64 were all converted to float64 by StandardScaler.\n  return self.partial_fit(X, y)\n/opt/conda/envs/Python36/lib/python3.6/site-packages/ipykernel/__main__.py:3: DataConversionWarning: Data with input dtype int64, float64 were all converted to float64 by StandardScaler.\n  app.launch_new_instance()\n"
                }
            ],
            "source": "scale=StandardScaler()\nscale.fit(X)\nXS=scale.transform(X)"
        },
        {
            "cell_type": "markdown",
            "metadata": {},
            "source": "## Train Test split and Model Training"
        },
        {
            "cell_type": "code",
            "execution_count": 47,
            "metadata": {},
            "outputs": [],
            "source": "from sklearn.model_selection import train_test_split\nx_train, x_test, y_train, y_test=train_test_split(XS, Y, test_size=0.2)"
        },
        {
            "cell_type": "code",
            "execution_count": 51,
            "metadata": {
                "collapsed": true
            },
            "outputs": [
                {
                    "name": "stderr",
                    "output_type": "stream",
                    "text": "/opt/conda/envs/Python36/lib/python3.6/site-packages/sklearn/utils/validation.py:761: DataConversionWarning: A column-vector y was passed when a 1d array was expected. Please change the shape of y to (n_samples, ), for example using ravel().\n  y = column_or_1d(y, warn=True)\n"
                },
                {
                    "data": {
                        "text/plain": "GradientBoostingClassifier(criterion='friedman_mse', init=None,\n              learning_rate=0.1, loss='deviance', max_depth=3,\n              max_features=None, max_leaf_nodes=None,\n              min_impurity_decrease=0.0, min_impurity_split=None,\n              min_samples_leaf=1, min_samples_split=2,\n              min_weight_fraction_leaf=0.0, n_estimators=100,\n              n_iter_no_change=None, presort='auto', random_state=None,\n              subsample=1.0, tol=0.0001, validation_fraction=0.1,\n              verbose=0, warm_start=False)"
                    },
                    "execution_count": 51,
                    "metadata": {},
                    "output_type": "execute_result"
                }
            ],
            "source": "from sklearn.ensemble import GradientBoostingClassifier\nclf=GradientBoostingClassifier()\nclf.fit(x_train, y_train)"
        },
        {
            "cell_type": "markdown",
            "metadata": {},
            "source": "## Test with log loss"
        },
        {
            "cell_type": "code",
            "execution_count": 53,
            "metadata": {},
            "outputs": [
                {
                    "data": {
                        "text/plain": "0.27698031671158435"
                    },
                    "execution_count": 53,
                    "metadata": {},
                    "output_type": "execute_result"
                }
            ],
            "source": "y_pred=clf.predict_proba(x_test)\nfrom sklearn.metrics import log_loss\nlog_loss(y_test,y_pred)"
        },
        {
            "cell_type": "code",
            "execution_count": null,
            "metadata": {},
            "outputs": [],
            "source": ""
        },
        {
            "cell_type": "code",
            "execution_count": null,
            "metadata": {},
            "outputs": [],
            "source": ""
        },
        {
            "cell_type": "code",
            "execution_count": null,
            "metadata": {},
            "outputs": [],
            "source": ""
        },
        {
            "cell_type": "code",
            "execution_count": null,
            "metadata": {},
            "outputs": [],
            "source": ""
        },
        {
            "cell_type": "code",
            "execution_count": null,
            "metadata": {},
            "outputs": [],
            "source": ""
        },
        {
            "cell_type": "code",
            "execution_count": null,
            "metadata": {},
            "outputs": [],
            "source": ""
        },
        {
            "cell_type": "code",
            "execution_count": null,
            "metadata": {},
            "outputs": [],
            "source": ""
        }
    ],
    "metadata": {
        "kernelspec": {
            "display_name": "Python 3.6",
            "language": "python",
            "name": "python3"
        },
        "language_info": {
            "codemirror_mode": {
                "name": "ipython",
                "version": 3
            },
            "file_extension": ".py",
            "mimetype": "text/x-python",
            "name": "python",
            "nbconvert_exporter": "python",
            "pygments_lexer": "ipython3",
            "version": "3.6.9"
        }
    },
    "nbformat": 4,
    "nbformat_minor": 1
}