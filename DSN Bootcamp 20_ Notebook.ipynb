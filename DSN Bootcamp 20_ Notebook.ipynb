{
  "nbformat": 4,
  "nbformat_minor": 0,
  "metadata": {
    "kernelspec": {
      "name": "python3",
      "display_name": "Python 3.6",
      "language": "python"
    },
    "language_info": {
      "name": "python",
      "version": "3.6.9",
      "mimetype": "text/x-python",
      "codemirror_mode": {
        "name": "ipython",
        "version": 3
      },
      "pygments_lexer": "ipython3",
      "nbconvert_exporter": "python",
      "file_extension": ".py"
    },
    "colab": {
      "name": "ayobamiakomolafe_Notebook.ipynb",
      "provenance": [],
      "collapsed_sections": []
    }
  },
  "cells": [
    {
      "cell_type": "markdown",
      "metadata": {
        "id": "cZHvbA0gnqEV"
      },
      "source": [
        "###  Import DataSet and Preprocess"
      ]
    },
    {
      "cell_type": "code",
      "metadata": {
        "id": "KJCTgQ-7oG1E",
        "outputId": "ebb86438-29e4-434a-8427-e4b6944e895c",
        "colab": {
          "base_uri": "https://localhost:8080/",
          "height": 34
        }
      },
      "source": [
        "from google.colab import drive\n",
        "drive.mount('/content/drive')"
      ],
      "execution_count": null,
      "outputs": [
        {
          "output_type": "stream",
          "text": [
            "Mounted at /content/drive\n"
          ],
          "name": "stdout"
        }
      ]
    },
    {
      "cell_type": "code",
      "metadata": {
        "id": "P3CeRFZmoYdp"
      },
      "source": [
        "import pandas as pd\n",
        "import numpy as np"
      ],
      "execution_count": null,
      "outputs": []
    },
    {
      "cell_type": "code",
      "metadata": {
        "id": "tF0_EOKsnqEY"
      },
      "source": [
        "path1='/content/drive/My Drive/Train.csv'\n",
        "path2='/content/drive/My Drive/Test.csv'"
      ],
      "execution_count": null,
      "outputs": []
    },
    {
      "cell_type": "code",
      "metadata": {
        "id": "YGQSoqizo_qT",
        "outputId": "1f6be192-e8c2-404d-aef5-b01866b45ae8",
        "colab": {
          "base_uri": "https://localhost:8080/",
          "height": 224
        }
      },
      "source": [
        "df_train=pd.read_csv(path1)\n",
        "df_train.head()"
      ],
      "execution_count": null,
      "outputs": [
        {
          "output_type": "execute_result",
          "data": {
            "text/html": [
              "<div>\n",
              "<style scoped>\n",
              "    .dataframe tbody tr th:only-of-type {\n",
              "        vertical-align: middle;\n",
              "    }\n",
              "\n",
              "    .dataframe tbody tr th {\n",
              "        vertical-align: top;\n",
              "    }\n",
              "\n",
              "    .dataframe thead th {\n",
              "        text-align: right;\n",
              "    }\n",
              "</style>\n",
              "<table border=\"1\" class=\"dataframe\">\n",
              "  <thead>\n",
              "    <tr style=\"text-align: right;\">\n",
              "      <th></th>\n",
              "      <th>Applicant_ID</th>\n",
              "      <th>form_field1</th>\n",
              "      <th>form_field2</th>\n",
              "      <th>form_field3</th>\n",
              "      <th>form_field4</th>\n",
              "      <th>form_field5</th>\n",
              "      <th>form_field6</th>\n",
              "      <th>form_field7</th>\n",
              "      <th>form_field8</th>\n",
              "      <th>form_field9</th>\n",
              "      <th>form_field10</th>\n",
              "      <th>form_field11</th>\n",
              "      <th>form_field12</th>\n",
              "      <th>form_field13</th>\n",
              "      <th>form_field14</th>\n",
              "      <th>form_field15</th>\n",
              "      <th>form_field16</th>\n",
              "      <th>form_field17</th>\n",
              "      <th>form_field18</th>\n",
              "      <th>form_field19</th>\n",
              "      <th>form_field20</th>\n",
              "      <th>form_field21</th>\n",
              "      <th>form_field22</th>\n",
              "      <th>form_field23</th>\n",
              "      <th>form_field24</th>\n",
              "      <th>form_field25</th>\n",
              "      <th>form_field26</th>\n",
              "      <th>form_field27</th>\n",
              "      <th>form_field28</th>\n",
              "      <th>form_field29</th>\n",
              "      <th>form_field30</th>\n",
              "      <th>form_field31</th>\n",
              "      <th>form_field32</th>\n",
              "      <th>form_field33</th>\n",
              "      <th>form_field34</th>\n",
              "      <th>form_field35</th>\n",
              "      <th>form_field36</th>\n",
              "      <th>form_field37</th>\n",
              "      <th>form_field38</th>\n",
              "      <th>form_field39</th>\n",
              "      <th>form_field40</th>\n",
              "      <th>form_field41</th>\n",
              "      <th>form_field42</th>\n",
              "      <th>form_field43</th>\n",
              "      <th>form_field44</th>\n",
              "      <th>form_field45</th>\n",
              "      <th>form_field46</th>\n",
              "      <th>form_field47</th>\n",
              "      <th>form_field48</th>\n",
              "      <th>form_field49</th>\n",
              "      <th>form_field50</th>\n",
              "      <th>default_status</th>\n",
              "    </tr>\n",
              "  </thead>\n",
              "  <tbody>\n",
              "    <tr>\n",
              "      <th>0</th>\n",
              "      <td>Apcnt_1000000</td>\n",
              "      <td>3436.0</td>\n",
              "      <td>0.28505</td>\n",
              "      <td>1.6560</td>\n",
              "      <td>0.0</td>\n",
              "      <td>0.000</td>\n",
              "      <td>0.0</td>\n",
              "      <td>10689720.0</td>\n",
              "      <td>252072.0</td>\n",
              "      <td>4272776.0</td>\n",
              "      <td>11333126.0</td>\n",
              "      <td>4397256.0</td>\n",
              "      <td>2301324.0</td>\n",
              "      <td>7875694.0</td>\n",
              "      <td>96375139</td>\n",
              "      <td>112181765.0</td>\n",
              "      <td>1.0</td>\n",
              "      <td>1.0</td>\n",
              "      <td>1.0</td>\n",
              "      <td>3.0</td>\n",
              "      <td>3.0</td>\n",
              "      <td>134.655</td>\n",
              "      <td>NaN</td>\n",
              "      <td>NaN</td>\n",
              "      <td>134.655</td>\n",
              "      <td>4000.5</td>\n",
              "      <td>17064.0</td>\n",
              "      <td>11376.0</td>\n",
              "      <td>60.0</td>\n",
              "      <td>17064.0</td>\n",
              "      <td>5962.0</td>\n",
              "      <td>NaN</td>\n",
              "      <td>1052.0</td>\n",
              "      <td>8.0000</td>\n",
              "      <td>2.0</td>\n",
              "      <td>NaN</td>\n",
              "      <td>12.0</td>\n",
              "      <td>12.0</td>\n",
              "      <td>4.0</td>\n",
              "      <td>0.0</td>\n",
              "      <td>NaN</td>\n",
              "      <td>NaN</td>\n",
              "      <td>0.392854</td>\n",
              "      <td>2.02</td>\n",
              "      <td>0.711632</td>\n",
              "      <td>0.0</td>\n",
              "      <td>0.0</td>\n",
              "      <td>charge</td>\n",
              "      <td>NaN</td>\n",
              "      <td>1.129518</td>\n",
              "      <td>0.044335</td>\n",
              "      <td>no</td>\n",
              "    </tr>\n",
              "    <tr>\n",
              "      <th>1</th>\n",
              "      <td>Apcnt_1000004</td>\n",
              "      <td>3456.0</td>\n",
              "      <td>0.67400</td>\n",
              "      <td>0.2342</td>\n",
              "      <td>0.0</td>\n",
              "      <td>0.000</td>\n",
              "      <td>0.0</td>\n",
              "      <td>898979.0</td>\n",
              "      <td>497531.0</td>\n",
              "      <td>9073814.0</td>\n",
              "      <td>2533168.0</td>\n",
              "      <td>244292.0</td>\n",
              "      <td>3982971.0</td>\n",
              "      <td>2141445.0</td>\n",
              "      <td>28141427</td>\n",
              "      <td>45169902.0</td>\n",
              "      <td>1.0</td>\n",
              "      <td>1.0</td>\n",
              "      <td>1.0</td>\n",
              "      <td>2.0</td>\n",
              "      <td>2.0</td>\n",
              "      <td>109.230</td>\n",
              "      <td>11385.24</td>\n",
              "      <td>14584.29</td>\n",
              "      <td>86.685</td>\n",
              "      <td>4161.0</td>\n",
              "      <td>13413.0</td>\n",
              "      <td>8942.0</td>\n",
              "      <td>304.0</td>\n",
              "      <td>13413.0</td>\n",
              "      <td>5780.0</td>\n",
              "      <td>NaN</td>\n",
              "      <td>2554.0</td>\n",
              "      <td>17.5000</td>\n",
              "      <td>0.0</td>\n",
              "      <td>0.0</td>\n",
              "      <td>16.0</td>\n",
              "      <td>24.0</td>\n",
              "      <td>8.0</td>\n",
              "      <td>0.0</td>\n",
              "      <td>NaN</td>\n",
              "      <td>NaN</td>\n",
              "      <td>0.314281</td>\n",
              "      <td>8.08</td>\n",
              "      <td>0.183584</td>\n",
              "      <td>NaN</td>\n",
              "      <td>0.0</td>\n",
              "      <td>charge</td>\n",
              "      <td>349.805730</td>\n",
              "      <td>1.620483</td>\n",
              "      <td>0.322436</td>\n",
              "      <td>no</td>\n",
              "    </tr>\n",
              "    <tr>\n",
              "      <th>2</th>\n",
              "      <td>Apcnt_1000008</td>\n",
              "      <td>3276.0</td>\n",
              "      <td>0.53845</td>\n",
              "      <td>3.1510</td>\n",
              "      <td>0.0</td>\n",
              "      <td>6.282</td>\n",
              "      <td>NaN</td>\n",
              "      <td>956940.0</td>\n",
              "      <td>NaN</td>\n",
              "      <td>192944.0</td>\n",
              "      <td>1079864.0</td>\n",
              "      <td>NaN</td>\n",
              "      <td>NaN</td>\n",
              "      <td>0.0</td>\n",
              "      <td>16576457</td>\n",
              "      <td>22452691.0</td>\n",
              "      <td>NaN</td>\n",
              "      <td>NaN</td>\n",
              "      <td>NaN</td>\n",
              "      <td>0.0</td>\n",
              "      <td>0.0</td>\n",
              "      <td>NaN</td>\n",
              "      <td>NaN</td>\n",
              "      <td>NaN</td>\n",
              "      <td>NaN</td>\n",
              "      <td>1597.5</td>\n",
              "      <td>4746.0</td>\n",
              "      <td>3164.0</td>\n",
              "      <td>60.0</td>\n",
              "      <td>15696.0</td>\n",
              "      <td>NaN</td>\n",
              "      <td>14508.0</td>\n",
              "      <td>70.0</td>\n",
              "      <td>0.6666</td>\n",
              "      <td>0.0</td>\n",
              "      <td>NaN</td>\n",
              "      <td>12.0</td>\n",
              "      <td>0.0</td>\n",
              "      <td>6.0</td>\n",
              "      <td>0.0</td>\n",
              "      <td>149.6805</td>\n",
              "      <td>NaN</td>\n",
              "      <td>0.162965</td>\n",
              "      <td>18.18</td>\n",
              "      <td>0.791136</td>\n",
              "      <td>0.0</td>\n",
              "      <td>0.0</td>\n",
              "      <td>charge</td>\n",
              "      <td>NaN</td>\n",
              "      <td>1.513370</td>\n",
              "      <td>0.011640</td>\n",
              "      <td>yes</td>\n",
              "    </tr>\n",
              "    <tr>\n",
              "      <th>3</th>\n",
              "      <td>Apcnt_1000012</td>\n",
              "      <td>3372.0</td>\n",
              "      <td>0.17005</td>\n",
              "      <td>0.5050</td>\n",
              "      <td>0.0</td>\n",
              "      <td>0.000</td>\n",
              "      <td>192166.0</td>\n",
              "      <td>3044703.0</td>\n",
              "      <td>385499.0</td>\n",
              "      <td>3986472.0</td>\n",
              "      <td>3621979.0</td>\n",
              "      <td>NaN</td>\n",
              "      <td>771776.0</td>\n",
              "      <td>1186839.0</td>\n",
              "      <td>48187375</td>\n",
              "      <td>136297820.0</td>\n",
              "      <td>0.0</td>\n",
              "      <td>0.0</td>\n",
              "      <td>0.0</td>\n",
              "      <td>1.0</td>\n",
              "      <td>1.0</td>\n",
              "      <td>120.120</td>\n",
              "      <td>8580.00</td>\n",
              "      <td>0.00</td>\n",
              "      <td>85.800</td>\n",
              "      <td>1701.0</td>\n",
              "      <td>4014.0</td>\n",
              "      <td>2676.0</td>\n",
              "      <td>60.0</td>\n",
              "      <td>11679.0</td>\n",
              "      <td>NaN</td>\n",
              "      <td>NaN</td>\n",
              "      <td>522.0</td>\n",
              "      <td>7.8334</td>\n",
              "      <td>1.0</td>\n",
              "      <td>1.0</td>\n",
              "      <td>4.0</td>\n",
              "      <td>8.0</td>\n",
              "      <td>4.0</td>\n",
              "      <td>1.0</td>\n",
              "      <td>NaN</td>\n",
              "      <td>NaN</td>\n",
              "      <td>0.488884</td>\n",
              "      <td>2.02</td>\n",
              "      <td>0.685168</td>\n",
              "      <td>NaN</td>\n",
              "      <td>0.0</td>\n",
              "      <td>charge</td>\n",
              "      <td>89.940100</td>\n",
              "      <td>0.664452</td>\n",
              "      <td>0.082729</td>\n",
              "      <td>no</td>\n",
              "    </tr>\n",
              "    <tr>\n",
              "      <th>4</th>\n",
              "      <td>Apcnt_1000016</td>\n",
              "      <td>3370.0</td>\n",
              "      <td>0.77270</td>\n",
              "      <td>1.1010</td>\n",
              "      <td>0.0</td>\n",
              "      <td>0.000</td>\n",
              "      <td>1556.0</td>\n",
              "      <td>214728.0</td>\n",
              "      <td>214728.0</td>\n",
              "      <td>1284089.0</td>\n",
              "      <td>361770.0</td>\n",
              "      <td>396391.0</td>\n",
              "      <td>818456.0</td>\n",
              "      <td>511535.0</td>\n",
              "      <td>28141427</td>\n",
              "      <td>15292757.0</td>\n",
              "      <td>0.0</td>\n",
              "      <td>0.0</td>\n",
              "      <td>0.0</td>\n",
              "      <td>3.0</td>\n",
              "      <td>3.0</td>\n",
              "      <td>104.535</td>\n",
              "      <td>8360.19</td>\n",
              "      <td>10326.45</td>\n",
              "      <td>115.335</td>\n",
              "      <td>1551.0</td>\n",
              "      <td>3285.0</td>\n",
              "      <td>2190.0</td>\n",
              "      <td>60.0</td>\n",
              "      <td>19437.0</td>\n",
              "      <td>12958.0</td>\n",
              "      <td>5202.0</td>\n",
              "      <td>272.0</td>\n",
              "      <td>1.0000</td>\n",
              "      <td>0.0</td>\n",
              "      <td>0.0</td>\n",
              "      <td>24.0</td>\n",
              "      <td>2.0</td>\n",
              "      <td>24.0</td>\n",
              "      <td>0.0</td>\n",
              "      <td>150.0135</td>\n",
              "      <td>NaN</td>\n",
              "      <td>0.275000</td>\n",
              "      <td>12.12</td>\n",
              "      <td>0.438168</td>\n",
              "      <td>0.0</td>\n",
              "      <td>0.0</td>\n",
              "      <td>charge</td>\n",
              "      <td>97.887502</td>\n",
              "      <td>1.427891</td>\n",
              "      <td>0.045630</td>\n",
              "      <td>no</td>\n",
              "    </tr>\n",
              "  </tbody>\n",
              "</table>\n",
              "</div>"
            ],
            "text/plain": [
              "    Applicant_ID  form_field1  ...  form_field50  default_status\n",
              "0  Apcnt_1000000       3436.0  ...      0.044335              no\n",
              "1  Apcnt_1000004       3456.0  ...      0.322436              no\n",
              "2  Apcnt_1000008       3276.0  ...      0.011640             yes\n",
              "3  Apcnt_1000012       3372.0  ...      0.082729              no\n",
              "4  Apcnt_1000016       3370.0  ...      0.045630              no\n",
              "\n",
              "[5 rows x 52 columns]"
            ]
          },
          "metadata": {
            "tags": []
          },
          "execution_count": 4
        }
      ]
    },
    {
      "cell_type": "markdown",
      "metadata": {
        "id": "fflUqNTDvowD"
      },
      "source": [
        "### Fill missing values with -999"
      ]
    },
    {
      "cell_type": "code",
      "metadata": {
        "id": "rPLy3A1bo_ji"
      },
      "source": [
        "df_train.fillna(-999, inplace=True)"
      ],
      "execution_count": null,
      "outputs": []
    },
    {
      "cell_type": "markdown",
      "metadata": {
        "id": "IagbCgczv51f"
      },
      "source": [
        "## Handle Categorical Variables with one hot encoding\n"
      ]
    },
    {
      "cell_type": "code",
      "metadata": {
        "id": "eMXCu4A9nqE_"
      },
      "source": [
        "dum=pd.get_dummies(df_train['form_field47'])\n",
        "df_train=pd.concat([df_train, dum], axis=1)"
      ],
      "execution_count": null,
      "outputs": []
    },
    {
      "cell_type": "code",
      "metadata": {
        "id": "jRnPq9mfxqJv"
      },
      "source": [
        "df_train.drop('form_field47', axis=1, inplace=True)"
      ],
      "execution_count": null,
      "outputs": []
    },
    {
      "cell_type": "code",
      "metadata": {
        "id": "vrGHxXV9nqFu"
      },
      "source": [
        "#yes:1, no: 0\n",
        "df_train['default_status'].replace('no', 0, inplace=True)\n",
        "df_train['default_status'].replace('yes', 1, inplace=True)"
      ],
      "execution_count": null,
      "outputs": []
    },
    {
      "cell_type": "markdown",
      "metadata": {
        "id": "ebcZ3dDIwE-3"
      },
      "source": [
        "## Prepare Dataset for Modelling"
      ]
    },
    {
      "cell_type": "code",
      "metadata": {
        "id": "x5kKWpTwnqGR"
      },
      "source": [
        "X=df_train.drop(['Applicant_ID','default_status'], axis=1)\n",
        "Y=df_train['default_status']"
      ],
      "execution_count": null,
      "outputs": []
    },
    {
      "cell_type": "markdown",
      "metadata": {
        "id": "x_h5SbhCwYsL"
      },
      "source": [
        "## Import and Preprocess Test Dataset for Modeling"
      ]
    },
    {
      "cell_type": "code",
      "metadata": {
        "id": "o_ZeehftnqGs",
        "outputId": "5a7af4b4-4193-4498-b113-2efbf7c968e1",
        "colab": {
          "base_uri": "https://localhost:8080/",
          "height": 224
        }
      },
      "source": [
        "df_test = pd.read_csv(path2)\n",
        "df_test.head()\n"
      ],
      "execution_count": null,
      "outputs": [
        {
          "output_type": "execute_result",
          "data": {
            "text/html": [
              "<div>\n",
              "<style scoped>\n",
              "    .dataframe tbody tr th:only-of-type {\n",
              "        vertical-align: middle;\n",
              "    }\n",
              "\n",
              "    .dataframe tbody tr th {\n",
              "        vertical-align: top;\n",
              "    }\n",
              "\n",
              "    .dataframe thead th {\n",
              "        text-align: right;\n",
              "    }\n",
              "</style>\n",
              "<table border=\"1\" class=\"dataframe\">\n",
              "  <thead>\n",
              "    <tr style=\"text-align: right;\">\n",
              "      <th></th>\n",
              "      <th>Applicant_ID</th>\n",
              "      <th>form_field1</th>\n",
              "      <th>form_field2</th>\n",
              "      <th>form_field3</th>\n",
              "      <th>form_field4</th>\n",
              "      <th>form_field5</th>\n",
              "      <th>form_field6</th>\n",
              "      <th>form_field7</th>\n",
              "      <th>form_field8</th>\n",
              "      <th>form_field9</th>\n",
              "      <th>form_field10</th>\n",
              "      <th>form_field11</th>\n",
              "      <th>form_field12</th>\n",
              "      <th>form_field13</th>\n",
              "      <th>form_field14</th>\n",
              "      <th>form_field15</th>\n",
              "      <th>form_field16</th>\n",
              "      <th>form_field17</th>\n",
              "      <th>form_field18</th>\n",
              "      <th>form_field19</th>\n",
              "      <th>form_field20</th>\n",
              "      <th>form_field21</th>\n",
              "      <th>form_field22</th>\n",
              "      <th>form_field23</th>\n",
              "      <th>form_field24</th>\n",
              "      <th>form_field25</th>\n",
              "      <th>form_field26</th>\n",
              "      <th>form_field27</th>\n",
              "      <th>form_field28</th>\n",
              "      <th>form_field29</th>\n",
              "      <th>form_field30</th>\n",
              "      <th>form_field31</th>\n",
              "      <th>form_field32</th>\n",
              "      <th>form_field33</th>\n",
              "      <th>form_field34</th>\n",
              "      <th>form_field35</th>\n",
              "      <th>form_field36</th>\n",
              "      <th>form_field37</th>\n",
              "      <th>form_field38</th>\n",
              "      <th>form_field39</th>\n",
              "      <th>form_field40</th>\n",
              "      <th>form_field41</th>\n",
              "      <th>form_field42</th>\n",
              "      <th>form_field43</th>\n",
              "      <th>form_field44</th>\n",
              "      <th>form_field45</th>\n",
              "      <th>form_field46</th>\n",
              "      <th>form_field47</th>\n",
              "      <th>form_field48</th>\n",
              "      <th>form_field49</th>\n",
              "      <th>form_field50</th>\n",
              "    </tr>\n",
              "  </thead>\n",
              "  <tbody>\n",
              "    <tr>\n",
              "      <th>0</th>\n",
              "      <td>Apcnt_1000032</td>\n",
              "      <td>3236.0</td>\n",
              "      <td>0.34875</td>\n",
              "      <td>10.2006</td>\n",
              "      <td>0.0000</td>\n",
              "      <td>0.0</td>\n",
              "      <td>418564.0</td>\n",
              "      <td>418564.0</td>\n",
              "      <td>418564.0</td>\n",
              "      <td>540710.0</td>\n",
              "      <td>0.0</td>\n",
              "      <td>1649749.0</td>\n",
              "      <td>5446.0</td>\n",
              "      <td>0.0</td>\n",
              "      <td>48187375</td>\n",
              "      <td>114686147.0</td>\n",
              "      <td>0.0</td>\n",
              "      <td>0.0</td>\n",
              "      <td>0.0</td>\n",
              "      <td>0.0</td>\n",
              "      <td>0.0</td>\n",
              "      <td>NaN</td>\n",
              "      <td>NaN</td>\n",
              "      <td>NaN</td>\n",
              "      <td>NaN</td>\n",
              "      <td>1086.0</td>\n",
              "      <td>6204.0</td>\n",
              "      <td>2676.0</td>\n",
              "      <td>60.0</td>\n",
              "      <td>14691.0</td>\n",
              "      <td>9794.0</td>\n",
              "      <td>NaN</td>\n",
              "      <td>238.0</td>\n",
              "      <td>1.8334</td>\n",
              "      <td>0.0</td>\n",
              "      <td>NaN</td>\n",
              "      <td>22.0</td>\n",
              "      <td>2.0</td>\n",
              "      <td>14.0</td>\n",
              "      <td>0.0</td>\n",
              "      <td>NaN</td>\n",
              "      <td>NaN</td>\n",
              "      <td>0.825000</td>\n",
              "      <td>1.01</td>\n",
              "      <td>0.800000</td>\n",
              "      <td>NaN</td>\n",
              "      <td>0.0</td>\n",
              "      <td>charge</td>\n",
              "      <td>NaN</td>\n",
              "      <td>0.000000</td>\n",
              "      <td>0.011221</td>\n",
              "    </tr>\n",
              "    <tr>\n",
              "      <th>1</th>\n",
              "      <td>Apcnt_1000048</td>\n",
              "      <td>3284.0</td>\n",
              "      <td>1.27360</td>\n",
              "      <td>2.9606</td>\n",
              "      <td>9.0198</td>\n",
              "      <td>0.0</td>\n",
              "      <td>0.0</td>\n",
              "      <td>9858816.0</td>\n",
              "      <td>49014.0</td>\n",
              "      <td>1510098.0</td>\n",
              "      <td>18308285.0</td>\n",
              "      <td>622789.0</td>\n",
              "      <td>1025793.0</td>\n",
              "      <td>1396510.0</td>\n",
              "      <td>34694910</td>\n",
              "      <td>87479487.0</td>\n",
              "      <td>1.0</td>\n",
              "      <td>1.0</td>\n",
              "      <td>1.0</td>\n",
              "      <td>2.0</td>\n",
              "      <td>2.0</td>\n",
              "      <td>142.560</td>\n",
              "      <td>NaN</td>\n",
              "      <td>NaN</td>\n",
              "      <td>570.585</td>\n",
              "      <td>3082.5</td>\n",
              "      <td>10221.0</td>\n",
              "      <td>6814.0</td>\n",
              "      <td>60.0</td>\n",
              "      <td>11955.0</td>\n",
              "      <td>3528.0</td>\n",
              "      <td>NaN</td>\n",
              "      <td>1216.0</td>\n",
              "      <td>19.5000</td>\n",
              "      <td>3.0</td>\n",
              "      <td>NaN</td>\n",
              "      <td>30.0</td>\n",
              "      <td>18.0</td>\n",
              "      <td>14.0</td>\n",
              "      <td>2.0</td>\n",
              "      <td>NaN</td>\n",
              "      <td>18.8415</td>\n",
              "      <td>0.507694</td>\n",
              "      <td>4.04</td>\n",
              "      <td>0.623248</td>\n",
              "      <td>1.0</td>\n",
              "      <td>0.0</td>\n",
              "      <td>lending</td>\n",
              "      <td>NaN</td>\n",
              "      <td>0.504974</td>\n",
              "      <td>0.043525</td>\n",
              "    </tr>\n",
              "    <tr>\n",
              "      <th>2</th>\n",
              "      <td>Apcnt_1000052</td>\n",
              "      <td>NaN</td>\n",
              "      <td>0.27505</td>\n",
              "      <td>0.0600</td>\n",
              "      <td>0.0000</td>\n",
              "      <td>0.0</td>\n",
              "      <td>NaN</td>\n",
              "      <td>NaN</td>\n",
              "      <td>NaN</td>\n",
              "      <td>NaN</td>\n",
              "      <td>0.0</td>\n",
              "      <td>118256.0</td>\n",
              "      <td>NaN</td>\n",
              "      <td>NaN</td>\n",
              "      <td>21973443</td>\n",
              "      <td>NaN</td>\n",
              "      <td>NaN</td>\n",
              "      <td>NaN</td>\n",
              "      <td>NaN</td>\n",
              "      <td>0.0</td>\n",
              "      <td>0.0</td>\n",
              "      <td>NaN</td>\n",
              "      <td>NaN</td>\n",
              "      <td>NaN</td>\n",
              "      <td>NaN</td>\n",
              "      <td>NaN</td>\n",
              "      <td>NaN</td>\n",
              "      <td>NaN</td>\n",
              "      <td>852.0</td>\n",
              "      <td>4836.0</td>\n",
              "      <td>NaN</td>\n",
              "      <td>NaN</td>\n",
              "      <td>NaN</td>\n",
              "      <td>7.8334</td>\n",
              "      <td>0.0</td>\n",
              "      <td>NaN</td>\n",
              "      <td>2.0</td>\n",
              "      <td>NaN</td>\n",
              "      <td>0.0</td>\n",
              "      <td>NaN</td>\n",
              "      <td>NaN</td>\n",
              "      <td>NaN</td>\n",
              "      <td>NaN</td>\n",
              "      <td>0.00</td>\n",
              "      <td>NaN</td>\n",
              "      <td>NaN</td>\n",
              "      <td>NaN</td>\n",
              "      <td>charge</td>\n",
              "      <td>NaN</td>\n",
              "      <td>0.000000</td>\n",
              "      <td>NaN</td>\n",
              "    </tr>\n",
              "    <tr>\n",
              "      <th>3</th>\n",
              "      <td>Apcnt_1000076</td>\n",
              "      <td>3232.0</td>\n",
              "      <td>0.28505</td>\n",
              "      <td>2.8032</td>\n",
              "      <td>0.0000</td>\n",
              "      <td>0.0</td>\n",
              "      <td>0.0</td>\n",
              "      <td>473802.0</td>\n",
              "      <td>473802.0</td>\n",
              "      <td>1724437.0</td>\n",
              "      <td>493641.0</td>\n",
              "      <td>1391064.0</td>\n",
              "      <td>1176725.0</td>\n",
              "      <td>1220293.0</td>\n",
              "      <td>16576457</td>\n",
              "      <td>NaN</td>\n",
              "      <td>2.0</td>\n",
              "      <td>2.0</td>\n",
              "      <td>2.0</td>\n",
              "      <td>3.0</td>\n",
              "      <td>3.0</td>\n",
              "      <td>109.005</td>\n",
              "      <td>13050.00</td>\n",
              "      <td>NaN</td>\n",
              "      <td>109.005</td>\n",
              "      <td>1414.5</td>\n",
              "      <td>4197.0</td>\n",
              "      <td>2798.0</td>\n",
              "      <td>60.0</td>\n",
              "      <td>14964.0</td>\n",
              "      <td>NaN</td>\n",
              "      <td>NaN</td>\n",
              "      <td>248.0</td>\n",
              "      <td>9.0000</td>\n",
              "      <td>1.0</td>\n",
              "      <td>1.0</td>\n",
              "      <td>36.0</td>\n",
              "      <td>0.0</td>\n",
              "      <td>26.0</td>\n",
              "      <td>0.0</td>\n",
              "      <td>NaN</td>\n",
              "      <td>NaN</td>\n",
              "      <td>0.916663</td>\n",
              "      <td>2.02</td>\n",
              "      <td>0.464224</td>\n",
              "      <td>NaN</td>\n",
              "      <td>NaN</td>\n",
              "      <td>charge</td>\n",
              "      <td>90.163742</td>\n",
              "      <td>0.788809</td>\n",
              "      <td>0.104029</td>\n",
              "    </tr>\n",
              "    <tr>\n",
              "      <th>4</th>\n",
              "      <td>Apcnt_1000080</td>\n",
              "      <td>3466.0</td>\n",
              "      <td>2.09545</td>\n",
              "      <td>0.8318</td>\n",
              "      <td>2.5182</td>\n",
              "      <td>0.0</td>\n",
              "      <td>19839.0</td>\n",
              "      <td>1150662.0</td>\n",
              "      <td>1150662.0</td>\n",
              "      <td>7860523.0</td>\n",
              "      <td>5752921.0</td>\n",
              "      <td>271133.0</td>\n",
              "      <td>613064.0</td>\n",
              "      <td>4779643.0</td>\n",
              "      <td>48187375</td>\n",
              "      <td>72049802.0</td>\n",
              "      <td>0.0</td>\n",
              "      <td>0.0</td>\n",
              "      <td>0.0</td>\n",
              "      <td>3.0</td>\n",
              "      <td>3.0</td>\n",
              "      <td>139.065</td>\n",
              "      <td>469.29</td>\n",
              "      <td>469.29</td>\n",
              "      <td>15.180</td>\n",
              "      <td>2724.0</td>\n",
              "      <td>9855.0</td>\n",
              "      <td>6570.0</td>\n",
              "      <td>182.0</td>\n",
              "      <td>11679.0</td>\n",
              "      <td>5900.0</td>\n",
              "      <td>NaN</td>\n",
              "      <td>2388.0</td>\n",
              "      <td>16.6666</td>\n",
              "      <td>1.0</td>\n",
              "      <td>0.0</td>\n",
              "      <td>24.0</td>\n",
              "      <td>28.0</td>\n",
              "      <td>20.0</td>\n",
              "      <td>0.0</td>\n",
              "      <td>NaN</td>\n",
              "      <td>NaN</td>\n",
              "      <td>0.234047</td>\n",
              "      <td>23.23</td>\n",
              "      <td>0.726688</td>\n",
              "      <td>0.0</td>\n",
              "      <td>0.0</td>\n",
              "      <td>lending</td>\n",
              "      <td>1303.587148</td>\n",
              "      <td>1.637733</td>\n",
              "      <td>0.163124</td>\n",
              "    </tr>\n",
              "  </tbody>\n",
              "</table>\n",
              "</div>"
            ],
            "text/plain": [
              "    Applicant_ID  form_field1  ...  form_field49  form_field50\n",
              "0  Apcnt_1000032       3236.0  ...      0.000000      0.011221\n",
              "1  Apcnt_1000048       3284.0  ...      0.504974      0.043525\n",
              "2  Apcnt_1000052          NaN  ...      0.000000           NaN\n",
              "3  Apcnt_1000076       3232.0  ...      0.788809      0.104029\n",
              "4  Apcnt_1000080       3466.0  ...      1.637733      0.163124\n",
              "\n",
              "[5 rows x 51 columns]"
            ]
          },
          "metadata": {
            "tags": []
          },
          "execution_count": 10
        }
      ]
    },
    {
      "cell_type": "code",
      "metadata": {
        "id": "VcGPWbfLnqG6"
      },
      "source": [
        "df_test.fillna(-999,inplace=True)\n",
        "dum=pd.get_dummies(df_test['form_field47'])\n",
        "df_test=pd.concat([df_test, dum], axis=1)\n",
        "df_test.drop('form_field47', axis=1, inplace=True)\n"
      ],
      "execution_count": null,
      "outputs": []
    },
    {
      "cell_type": "code",
      "metadata": {
        "id": "rb4Epqx2nqHK"
      },
      "source": [
        "df_model=df_test.drop('Applicant_ID', axis=1)"
      ],
      "execution_count": null,
      "outputs": []
    },
    {
      "cell_type": "code",
      "metadata": {
        "id": "PP2fmjES9A94"
      },
      "source": [
        "df_train.info()"
      ],
      "execution_count": null,
      "outputs": []
    },
    {
      "cell_type": "markdown",
      "metadata": {
        "id": "xF1Sd3JJ7BbC"
      },
      "source": [
        "FEATURE ENGINEERING (Log Transformation of some skewed columns)"
      ]
    },
    {
      "cell_type": "code",
      "metadata": {
        "id": "vx0XghdD7ACU"
      },
      "source": [
        "skewed_columns=['form_field14','form_field13','form_field7','form_field10','form_field50','form_field11', 'form_field48','form_field24','form_field9', \n",
        "              'form_field5','form_field38','form_field20','form_field34','form_field4','form_field3','form_field49', 'form_field19'] \n"
      ],
      "execution_count": null,
      "outputs": []
    },
    {
      "cell_type": "code",
      "metadata": {
        "id": "qGr_P8gR6_qg",
        "outputId": "72d3e89d-e972-4951-d220-f9ccaf51e844",
        "colab": {
          "base_uri": "https://localhost:8080/",
          "height": 51
        }
      },
      "source": [
        "## Transforming skewed columns in train dataset\n",
        "import numpy as np\n",
        "for i in skewed_columns:\n",
        "    unskewed=np.log(X[i] + 1)\n",
        "    X[i+'unskewed']=unskewed\n",
        "    continue"
      ],
      "execution_count": null,
      "outputs": [
        {
          "output_type": "stream",
          "text": [
            "/usr/local/lib/python3.6/dist-packages/pandas/core/series.py:726: RuntimeWarning: invalid value encountered in log\n",
            "  result = getattr(ufunc, method)(*inputs, **kwargs)\n"
          ],
          "name": "stderr"
        }
      ]
    },
    {
      "cell_type": "code",
      "metadata": {
        "id": "SQA3Z1UIGRlZ",
        "outputId": "79555ae8-22d6-4dde-962d-7975a95a841f",
        "colab": {
          "base_uri": "https://localhost:8080/",
          "height": 51
        }
      },
      "source": [
        "## Transforming skewed columns in test dataset\n",
        "for i in skewed_columns:\n",
        "    unskewed=np.log(df_model[i] + 1)\n",
        "    df_model[i+'unskewed']=unskewed\n",
        "    continue"
      ],
      "execution_count": null,
      "outputs": [
        {
          "output_type": "stream",
          "text": [
            "/usr/local/lib/python3.6/dist-packages/pandas/core/series.py:726: RuntimeWarning: invalid value encountered in log\n",
            "  result = getattr(ufunc, method)(*inputs, **kwargs)\n"
          ],
          "name": "stderr"
        }
      ]
    },
    {
      "cell_type": "code",
      "metadata": {
        "id": "MPYi5BBKMAhF"
      },
      "source": [
        "# Drop skewed columns and fill Nan with -999\n",
        "for i in skewed_columns:\n",
        "  X.drop(i, axis=1, inplace=True)\n",
        "  df_model.drop(i, axis=1, inplace=True)\n",
        "  continue\n",
        "\n",
        "df_model.fillna(-999, inplace=True)\n",
        "X.fillna(-999, inplace=True)"
      ],
      "execution_count": null,
      "outputs": []
    },
    {
      "cell_type": "markdown",
      "metadata": {
        "id": "Vqc6bpPpwnHJ"
      },
      "source": [
        "# Modelling\n"
      ]
    },
    {
      "cell_type": "code",
      "metadata": {
        "id": "FfiBn_Srqxia"
      },
      "source": [
        "!pip install catboost"
      ],
      "execution_count": null,
      "outputs": []
    },
    {
      "cell_type": "code",
      "metadata": {
        "id": "kYKNVFyxJ2dH"
      },
      "source": [
        "!pip install rgf_python"
      ],
      "execution_count": null,
      "outputs": []
    },
    {
      "cell_type": "code",
      "metadata": {
        "id": "-stZJoaAKKTG"
      },
      "source": [
        "from lightgbm import LGBMClassifier\n",
        "from sklearn.ensemble import VotingClassifier\n",
        "from catboost import CatBoostClassifier\n",
        "from sklearn.model_selection import StratifiedKFold \n",
        "from sklearn.ensemble import RandomForestClassifier\n",
        "from rgf.sklearn import RGFClassifier\n",
        "rf=RandomForestClassifier(n_estimators=500)\n",
        "rgf=RGFClassifier()\n",
        "kf=StratifiedKFold(n_splits=5)\n",
        "lg=LGBMClassifier(n_estimators=220, learning_rate=0.05)\n",
        "cat=CatBoostClassifier()"
      ],
      "execution_count": null,
      "outputs": []
    },
    {
      "cell_type": "code",
      "metadata": {
        "id": "pZ96qchPnqHk"
      },
      "source": [
        "from sklearn.pipeline import make_pipeline\n",
        "from sklearn.preprocessing import MinMaxScaler\n",
        "scale=MinMaxScaler()"
      ],
      "execution_count": null,
      "outputs": []
    },
    {
      "cell_type": "code",
      "metadata": {
        "id": "gRILd_ZcnqHX"
      },
      "source": [
        "clf=VotingClassifier(estimators=[('lg', lg), ('cat', cat),('rf', rf), ('rgf', rgf)], voting='soft', weights=[0.49, 1, 0.54,0.5])"
      ],
      "execution_count": null,
      "outputs": []
    },
    {
      "cell_type": "code",
      "metadata": {
        "id": "27dAgy1hF0D6"
      },
      "source": [
        "X.info()"
      ],
      "execution_count": null,
      "outputs": []
    },
    {
      "cell_type": "markdown",
      "metadata": {
        "id": "TtdUQSypo_xK"
      },
      "source": [
        ""
      ]
    },
    {
      "cell_type": "code",
      "metadata": {
        "id": "IY2XHxBVnqH0"
      },
      "source": [
        "score=list()\n",
        "predictions=list()\n",
        "pipe=make_pipeline(scale, clf)\n",
        "for Train, Test in kf.split(X,Y):\n",
        "    \n",
        "    x_train,x_test,y_train,y_test=X.iloc[Train], X.iloc[Test], Y.iloc[Train], Y.iloc[Test]\n",
        "    pipe.fit(x_train, y_train)\n",
        "    sc=pipe.score(x_test,y_test)\n",
        "    score.append(sc)\n",
        "    prediction=pipe.predict_proba(df_model)[:,1]\n",
        "    predictions.append(prediction)\n",
        "        "
      ],
      "execution_count": null,
      "outputs": []
    },
    {
      "cell_type": "code",
      "metadata": {
        "id": "nMaXhdKxtQA3",
        "outputId": "424e8d2a-1209-4a22-d8a7-c45c701ce4df",
        "colab": {
          "base_uri": "https://localhost:8080/",
          "height": 34
        }
      },
      "source": [
        "np.mean(score)"
      ],
      "execution_count": null,
      "outputs": [
        {
          "output_type": "execute_result",
          "data": {
            "text/plain": [
              "0.8097142857142856"
            ]
          },
          "metadata": {
            "tags": []
          },
          "execution_count": 114
        }
      ]
    },
    {
      "cell_type": "markdown",
      "metadata": {
        "id": "R3ETEP-gwvzg"
      },
      "source": [
        "# Submission File"
      ]
    },
    {
      "cell_type": "code",
      "metadata": {
        "id": "f_7Z-BFSnqIA"
      },
      "source": [
        "sub=np.mean(predictions, axis=0)"
      ],
      "execution_count": null,
      "outputs": []
    },
    {
      "cell_type": "code",
      "metadata": {
        "id": "sOzj8kYRnqIX"
      },
      "source": [
        "df_sub=pd.DataFrame(sub)"
      ],
      "execution_count": null,
      "outputs": []
    },
    {
      "cell_type": "code",
      "metadata": {
        "id": "ZdMje_tDnqI_"
      },
      "source": [
        "df_id=df_test[['Applicant_ID']]\n",
        "df_sub=pd.concat([df_id,df_sub], axis=1)"
      ],
      "execution_count": null,
      "outputs": []
    },
    {
      "cell_type": "code",
      "metadata": {
        "id": "JZ54kFeOK7b9"
      },
      "source": [
        "df_sub.head(2)"
      ],
      "execution_count": null,
      "outputs": []
    },
    {
      "cell_type": "code",
      "metadata": {
        "id": "h4nvpvOnnqJk"
      },
      "source": [
        "from google.colab import files\n",
        "df_sub.to_csv('./submissionfile.csv', sep = ',', index = False)"
      ],
      "execution_count": null,
      "outputs": []
    },
    {
      "cell_type": "code",
      "metadata": {
        "id": "fT8zayiXnqKG",
        "outputId": "4b805197-328c-41af-b46c-bb80993fda5c",
        "colab": {
          "base_uri": "https://localhost:8080/",
          "height": 17
        }
      },
      "source": [
        "files.download('submissionfile.csv')"
      ],
      "execution_count": null,
      "outputs": [
        {
          "output_type": "display_data",
          "data": {
            "application/javascript": [
              "\n",
              "    async function download(id, filename, size) {\n",
              "      if (!google.colab.kernel.accessAllowed) {\n",
              "        return;\n",
              "      }\n",
              "      const div = document.createElement('div');\n",
              "      const label = document.createElement('label');\n",
              "      label.textContent = `Downloading \"${filename}\": `;\n",
              "      div.appendChild(label);\n",
              "      const progress = document.createElement('progress');\n",
              "      progress.max = size;\n",
              "      div.appendChild(progress);\n",
              "      document.body.appendChild(div);\n",
              "\n",
              "      const buffers = [];\n",
              "      let downloaded = 0;\n",
              "\n",
              "      const channel = await google.colab.kernel.comms.open(id);\n",
              "      // Send a message to notify the kernel that we're ready.\n",
              "      channel.send({})\n",
              "\n",
              "      for await (const message of channel.messages) {\n",
              "        // Send a message to notify the kernel that we're ready.\n",
              "        channel.send({})\n",
              "        if (message.buffers) {\n",
              "          for (const buffer of message.buffers) {\n",
              "            buffers.push(buffer);\n",
              "            downloaded += buffer.byteLength;\n",
              "            progress.value = downloaded;\n",
              "          }\n",
              "        }\n",
              "      }\n",
              "      const blob = new Blob(buffers, {type: 'application/binary'});\n",
              "      const a = document.createElement('a');\n",
              "      a.href = window.URL.createObjectURL(blob);\n",
              "      a.download = filename;\n",
              "      div.appendChild(a);\n",
              "      a.click();\n",
              "      div.remove();\n",
              "    }\n",
              "  "
            ],
            "text/plain": [
              "<IPython.core.display.Javascript object>"
            ]
          },
          "metadata": {
            "tags": []
          }
        },
        {
          "output_type": "display_data",
          "data": {
            "application/javascript": [
              "download(\"download_8ddc74b9-dfca-432a-8839-4299ccf04dcd\", \"submissionfile.csv\", 804465)"
            ],
            "text/plain": [
              "<IPython.core.display.Javascript object>"
            ]
          },
          "metadata": {
            "tags": []
          }
        }
      ]
    }
  ]
}