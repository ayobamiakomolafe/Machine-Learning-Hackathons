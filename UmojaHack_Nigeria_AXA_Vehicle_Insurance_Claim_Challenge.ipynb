{
  "nbformat": 4,
  "nbformat_minor": 0,
  "metadata": {
    "colab": {
      "name": "UmojaHack Nigeria: AXA Vehicle Insurance Claim Challenge.ipynb",
      "provenance": [],
      "collapsed_sections": [],
      "mount_file_id": "1MKgA_NXlagBQzFjeafyzDG6xpYMAul15",
      "authorship_tag": "ABX9TyOHa/XYjwYYspKk6MHlFcJ7",
      "include_colab_link": true
    },
    "kernelspec": {
      "display_name": "Python 3",
      "name": "python3"
    }
  },
  "cells": [
    {
      "cell_type": "markdown",
      "metadata": {
        "id": "view-in-github",
        "colab_type": "text"
      },
      "source": [
        "<a href=\"https://colab.research.google.com/github/ayobamiakomolafe/Zindi-projects/blob/master/UmojaHack_Nigeria_AXA_Vehicle_Insurance_Claim_Challenge.ipynb\" target=\"_parent\"><img src=\"https://colab.research.google.com/assets/colab-badge.svg\" alt=\"Open In Colab\"/></a>"
      ]
    },
    {
      "cell_type": "markdown",
      "metadata": {
        "id": "U8_i4NvARahh"
      },
      "source": [
        "**Can you predict if a client will submit a vehicle insurance claim in the next 3 months?**"
      ]
    },
    {
      "cell_type": "code",
      "metadata": {
        "id": "LgfxCMywG15P"
      },
      "source": [
        "Train='/content/drive/MyDrive/Train.csv'\n",
        "Test='/content/drive/MyDrive/Test.csv'"
      ],
      "execution_count": 1,
      "outputs": []
    },
    {
      "cell_type": "code",
      "metadata": {
        "id": "V4EcdrvOHUR9"
      },
      "source": [
        "import pandas as pd\n",
        "import numpy as np\n",
        "import matplotlib.pyplot as plt\n"
      ],
      "execution_count": 2,
      "outputs": []
    },
    {
      "cell_type": "code",
      "metadata": {
        "id": "Mu_GUWfVHbXd"
      },
      "source": [
        "df_train=pd.read_csv(Train)\n",
        "df_test=pd.read_csv(Test)"
      ],
      "execution_count": 3,
      "outputs": []
    },
    {
      "cell_type": "code",
      "metadata": {
        "id": "eNCUhsmCHis0"
      },
      "source": [
        "df=pd.concat([df_train, df_test], axis=0)"
      ],
      "execution_count": 4,
      "outputs": []
    },
    {
      "cell_type": "markdown",
      "metadata": {
        "id": "Q4HjqLJcdoU1"
      },
      "source": [
        "Fill missing values with 999, Extract Year and Month from Datetime columns and Label encode categorical features"
      ]
    },
    {
      "cell_type": "code",
      "metadata": {
        "id": "aoNMVu8JVime"
      },
      "source": [
        "df.fillna(999, inplace=True)"
      ],
      "execution_count": 5,
      "outputs": []
    },
    {
      "cell_type": "code",
      "metadata": {
        "id": "GaKWjWSWLgbB"
      },
      "source": [
        "df['Policy Start Date']=df_train['Policy Start Date'].astype('datetime64')\n",
        "df['Policy End Date']=df_train['Policy End Date'].astype('datetime64')\n",
        "df['First Transaction Date']=df_train['First Transaction Date'].astype('datetime64')"
      ],
      "execution_count": 6,
      "outputs": []
    },
    {
      "cell_type": "code",
      "metadata": {
        "id": "KY5EtvODNheM"
      },
      "source": [
        "df['Policy Start Date Year']= df['Policy Start Date'].dt.year\n",
        "df['Policy Start Date Month']= df['Policy Start Date'].dt.month\n",
        "df['Policy End Date Year']= df['Policy End Date'].dt.year\n",
        "df['Policy End Date Month']=df['Policy End Date'].dt.month\n",
        "df['First Transaction Date Year']= df['First Transaction Date'].dt.year\n",
        "df['First Transaction Date Month']= df['First Transaction Date'].dt.month\n"
      ],
      "execution_count": 7,
      "outputs": []
    },
    {
      "cell_type": "code",
      "metadata": {
        "id": "E5aUy2wNPIgE"
      },
      "source": [
        "df.drop(['Policy Start Date','Policy End Date','First Transaction Date'], axis=1, inplace=True)"
      ],
      "execution_count": 8,
      "outputs": []
    },
    {
      "cell_type": "code",
      "metadata": {
        "id": "kKf0dmM5PetY"
      },
      "source": [
        "for i in ['Entity','Joint Gender' ,'NOT STATED','NO GENDER','SEX']:\n",
        "    df['Gender'].replace(i, 'others', inplace=True)"
      ],
      "execution_count": 9,
      "outputs": []
    },
    {
      "cell_type": "code",
      "metadata": {
        "id": "OyQRThFlisTw"
      },
      "source": [
        "df.info()"
      ],
      "execution_count": null,
      "outputs": []
    },
    {
      "cell_type": "code",
      "metadata": {
        "id": "y9bKNN1vSEob"
      },
      "source": [
        "state=dict()\n",
        "nu=df['State'].nunique()\n",
        "num=range(nu)\n",
        "uni=df['State'].unique()\n",
        "for a,b in zip(num,uni):\n",
        "    df['State'].replace(b,a, inplace=True)\n",
        "    state[b]=a"
      ],
      "execution_count": 11,
      "outputs": []
    },
    {
      "cell_type": "code",
      "metadata": {
        "id": "QPAoOp-PVoQ6"
      },
      "source": [
        "ProductName=dict()\n",
        "nu=df['ProductName'].nunique()\n",
        "num=range(nu)\n",
        "uni=df['ProductName'].unique()\n",
        "for a,b in zip(num,uni):\n",
        "    df['ProductName'].replace(b,a, inplace=True)\n",
        "    ProductName[b]=a\n",
        "\n",
        "\n",
        "LGA_Name=dict()\n",
        "nu=df['LGA_Name'].nunique()\n",
        "num=range(nu)\n",
        "uni=df['LGA_Name'].unique()\n",
        "for a,b in zip(num,uni):\n",
        "    df['LGA_Name'].replace(b,a, inplace=True)\n",
        "    LGA_Name[b]=a\n",
        "\n",
        "Subject_Car_Make=dict()\n",
        "nu=df['Subject_Car_Make'].nunique()\n",
        "num=range(nu)\n",
        "uni=df['Subject_Car_Make'].unique()\n",
        "for a,b in zip(num,uni):\n",
        "    df['Subject_Car_Make'].replace(b,a, inplace=True)\n",
        "    Subject_Car_Make[b]=a"
      ],
      "execution_count": 12,
      "outputs": []
    },
    {
      "cell_type": "code",
      "metadata": {
        "id": "9qpPxtWcUkuw"
      },
      "source": [
        "Car_Category=dict()\n",
        "nu=df['Car_Category'].nunique()\n",
        "num=range(nu)\n",
        "uni=df['Car_Category'].unique()\n",
        "for a,b in zip(num,uni):\n",
        "    df['Car_Category'].replace(b,a, inplace=True)\n",
        "    Car_Category[b]=a\n",
        "\n",
        "Subject_Car_Colour=dict()\n",
        "nu=df['Subject_Car_Colour'].nunique()\n",
        "num=range(nu)\n",
        "uni=df['Subject_Car_Colour'].unique()\n",
        "for a,b in zip(num,uni):\n",
        "    df['Subject_Car_Colour'].replace(b,a, inplace=True)\n",
        "    Subject_Car_Colour[b]=a"
      ],
      "execution_count": 13,
      "outputs": []
    },
    {
      "cell_type": "code",
      "metadata": {
        "id": "C93x9I6hHOLS"
      },
      "source": [
        "dg=pd.get_dummies(df['Gender'])\n",
        "df=pd.concat([df,dg], axis=1)"
      ],
      "execution_count": 14,
      "outputs": []
    },
    {
      "cell_type": "code",
      "metadata": {
        "id": "s39QlUWyW7uc"
      },
      "source": [
        "df.drop(['Gender', 'ID'], axis=1, inplace=True)"
      ],
      "execution_count": 15,
      "outputs": []
    },
    {
      "cell_type": "code",
      "metadata": {
        "id": "yafNK8AuQWJb"
      },
      "source": [
        "df.info()"
      ],
      "execution_count": null,
      "outputs": []
    },
    {
      "cell_type": "code",
      "metadata": {
        "colab": {
          "base_uri": "https://localhost:8080/",
          "height": 275
        },
        "id": "-LsZPoj4wxAB",
        "outputId": "e1edee75-aeba-4225-9127-2a75feb77c29"
      },
      "source": [
        "df.head()"
      ],
      "execution_count": 39,
      "outputs": [
        {
          "output_type": "execute_result",
          "data": {
            "text/html": [
              "<div>\n",
              "<style scoped>\n",
              "    .dataframe tbody tr th:only-of-type {\n",
              "        vertical-align: middle;\n",
              "    }\n",
              "\n",
              "    .dataframe tbody tr th {\n",
              "        vertical-align: top;\n",
              "    }\n",
              "\n",
              "    .dataframe thead th {\n",
              "        text-align: right;\n",
              "    }\n",
              "</style>\n",
              "<table border=\"1\" class=\"dataframe\">\n",
              "  <thead>\n",
              "    <tr style=\"text-align: right;\">\n",
              "      <th></th>\n",
              "      <th>Age</th>\n",
              "      <th>No_Pol</th>\n",
              "      <th>Car_Category</th>\n",
              "      <th>Subject_Car_Colour</th>\n",
              "      <th>Subject_Car_Make</th>\n",
              "      <th>LGA_Name</th>\n",
              "      <th>State</th>\n",
              "      <th>ProductName</th>\n",
              "      <th>target</th>\n",
              "      <th>Policy Start Date Year</th>\n",
              "      <th>Policy Start Date Month</th>\n",
              "      <th>Policy End Date Year</th>\n",
              "      <th>Policy End Date Month</th>\n",
              "      <th>First Transaction Date Year</th>\n",
              "      <th>First Transaction Date Month</th>\n",
              "      <th>999</th>\n",
              "      <th>Female</th>\n",
              "      <th>Male</th>\n",
              "      <th>others</th>\n",
              "    </tr>\n",
              "  </thead>\n",
              "  <tbody>\n",
              "    <tr>\n",
              "      <th>0</th>\n",
              "      <td>30</td>\n",
              "      <td>1</td>\n",
              "      <td>0</td>\n",
              "      <td>0</td>\n",
              "      <td>0</td>\n",
              "      <td>0</td>\n",
              "      <td>0</td>\n",
              "      <td>0</td>\n",
              "      <td>0.0</td>\n",
              "      <td>2010</td>\n",
              "      <td>5</td>\n",
              "      <td>2011</td>\n",
              "      <td>5</td>\n",
              "      <td>2010</td>\n",
              "      <td>5</td>\n",
              "      <td>0</td>\n",
              "      <td>0</td>\n",
              "      <td>1</td>\n",
              "      <td>0</td>\n",
              "    </tr>\n",
              "    <tr>\n",
              "      <th>1</th>\n",
              "      <td>79</td>\n",
              "      <td>1</td>\n",
              "      <td>1</td>\n",
              "      <td>1</td>\n",
              "      <td>0</td>\n",
              "      <td>0</td>\n",
              "      <td>0</td>\n",
              "      <td>0</td>\n",
              "      <td>1.0</td>\n",
              "      <td>2010</td>\n",
              "      <td>11</td>\n",
              "      <td>2011</td>\n",
              "      <td>11</td>\n",
              "      <td>2010</td>\n",
              "      <td>11</td>\n",
              "      <td>0</td>\n",
              "      <td>1</td>\n",
              "      <td>0</td>\n",
              "      <td>0</td>\n",
              "    </tr>\n",
              "    <tr>\n",
              "      <th>2</th>\n",
              "      <td>43</td>\n",
              "      <td>1</td>\n",
              "      <td>0</td>\n",
              "      <td>2</td>\n",
              "      <td>0</td>\n",
              "      <td>0</td>\n",
              "      <td>0</td>\n",
              "      <td>0</td>\n",
              "      <td>0.0</td>\n",
              "      <td>2010</td>\n",
              "      <td>3</td>\n",
              "      <td>2011</td>\n",
              "      <td>3</td>\n",
              "      <td>2010</td>\n",
              "      <td>3</td>\n",
              "      <td>0</td>\n",
              "      <td>0</td>\n",
              "      <td>1</td>\n",
              "      <td>0</td>\n",
              "    </tr>\n",
              "    <tr>\n",
              "      <th>3</th>\n",
              "      <td>2</td>\n",
              "      <td>1</td>\n",
              "      <td>2</td>\n",
              "      <td>3</td>\n",
              "      <td>1</td>\n",
              "      <td>0</td>\n",
              "      <td>0</td>\n",
              "      <td>1</td>\n",
              "      <td>0.0</td>\n",
              "      <td>2010</td>\n",
              "      <td>8</td>\n",
              "      <td>2011</td>\n",
              "      <td>8</td>\n",
              "      <td>2010</td>\n",
              "      <td>8</td>\n",
              "      <td>0</td>\n",
              "      <td>0</td>\n",
              "      <td>1</td>\n",
              "      <td>0</td>\n",
              "    </tr>\n",
              "    <tr>\n",
              "      <th>4</th>\n",
              "      <td>20</td>\n",
              "      <td>3</td>\n",
              "      <td>2</td>\n",
              "      <td>3</td>\n",
              "      <td>1</td>\n",
              "      <td>1</td>\n",
              "      <td>1</td>\n",
              "      <td>2</td>\n",
              "      <td>1.0</td>\n",
              "      <td>2010</td>\n",
              "      <td>8</td>\n",
              "      <td>2010</td>\n",
              "      <td>12</td>\n",
              "      <td>2010</td>\n",
              "      <td>8</td>\n",
              "      <td>0</td>\n",
              "      <td>0</td>\n",
              "      <td>0</td>\n",
              "      <td>1</td>\n",
              "    </tr>\n",
              "  </tbody>\n",
              "</table>\n",
              "</div>"
            ],
            "text/plain": [
              "   Age  No_Pol  Car_Category  Subject_Car_Colour  ...  999  Female  Male  others\n",
              "0   30       1             0                   0  ...    0       0     1       0\n",
              "1   79       1             1                   1  ...    0       1     0       0\n",
              "2   43       1             0                   2  ...    0       0     1       0\n",
              "3    2       1             2                   3  ...    0       0     1       0\n",
              "4   20       3             2                   3  ...    0       0     0       1\n",
              "\n",
              "[5 rows x 19 columns]"
            ]
          },
          "metadata": {
            "tags": []
          },
          "execution_count": 39
        }
      ]
    },
    {
      "cell_type": "code",
      "metadata": {
        "id": "bDrhrwyqmGYX"
      },
      "source": [
        "df_train=df.iloc[:12079]\n",
        "df_test=df.iloc[12079:]"
      ],
      "execution_count": 17,
      "outputs": []
    },
    {
      "cell_type": "code",
      "metadata": {
        "id": "-MDPwTqsW7jt"
      },
      "source": [
        "df_X=df_train.drop('target', axis=1)\n",
        "df_Y=df_train['target']"
      ],
      "execution_count": 18,
      "outputs": []
    },
    {
      "cell_type": "code",
      "metadata": {
        "id": "zFaybFlOzLYN"
      },
      "source": [
        "df_test=df_test.drop('target', axis=1)"
      ],
      "execution_count": 19,
      "outputs": []
    },
    {
      "cell_type": "code",
      "metadata": {
        "id": "52qGKdLQaTeq"
      },
      "source": [
        "df_test.shape"
      ],
      "execution_count": null,
      "outputs": []
    },
    {
      "cell_type": "markdown",
      "metadata": {
        "id": "sq9pqAM_eCfK"
      },
      "source": [
        "Modelling with VotingClassifier"
      ]
    },
    {
      "cell_type": "code",
      "metadata": {
        "id": "oM4u7th2no5_"
      },
      "source": [
        "!pip install lightgbm\n",
        "!pip install catboost"
      ],
      "execution_count": null,
      "outputs": []
    },
    {
      "cell_type": "code",
      "metadata": {
        "id": "SXRaGejtnqwP"
      },
      "source": [
        "\n",
        "from catboost import CatBoostClassifier\n",
        "from lightgbm import LGBMClassifier\n",
        "from sklearn.ensemble import RandomForestClassifier\n",
        "lg=LGBMClassifier()\n",
        "cat=CatBoostClassifier()\n",
        "Rf=RandomForestClassifier()\n",
        "from sklearn.preprocessing import StandardScaler\n",
        "from sklearn.ensemble import VotingClassifier\n",
        "scale=StandardScaler()"
      ],
      "execution_count": 24,
      "outputs": []
    },
    {
      "cell_type": "code",
      "metadata": {
        "id": "PqP0tD6TTDQs"
      },
      "source": [
        "vf=VotingClassifier([('Rf', Rf), ('lg', lg), ('cat', cat)], voting='soft', weights=[0.7, 0.2,0.1])"
      ],
      "execution_count": 26,
      "outputs": []
    },
    {
      "cell_type": "code",
      "metadata": {
        "id": "V6y-JYHDoadA"
      },
      "source": [
        "df_X_sc=scale.fit_transform(df_X)\n",
        "df_test_sc=scale.transform(df_test)\n"
      ],
      "execution_count": 27,
      "outputs": []
    },
    {
      "cell_type": "code",
      "metadata": {
        "id": "7kAm61fVo5RQ"
      },
      "source": [
        "vf.fit(df_X_sc,df_Y )"
      ],
      "execution_count": null,
      "outputs": []
    },
    {
      "cell_type": "code",
      "metadata": {
        "id": "Rwx3rFxRpDwU"
      },
      "source": [
        "pred=vf.predict_proba(df_test_sc)"
      ],
      "execution_count": 29,
      "outputs": []
    },
    {
      "cell_type": "code",
      "metadata": {
        "id": "W_CV-pzZHLD0"
      },
      "source": [
        "pred=pred[:,1]"
      ],
      "execution_count": 30,
      "outputs": []
    },
    {
      "cell_type": "code",
      "metadata": {
        "id": "bVeK-k8sG3On"
      },
      "source": [
        "final_pred=list()\n",
        "for i in pred:\n",
        "    x=None\n",
        "    if i >= 0.2:\n",
        "        x=1\n",
        "    else:\n",
        "        x=0\n",
        "    final_pred.append(x)\n"
      ],
      "execution_count": 31,
      "outputs": []
    },
    {
      "cell_type": "code",
      "metadata": {
        "colab": {
          "base_uri": "https://localhost:8080/"
        },
        "id": "eZ0L-2WhI7Kb",
        "outputId": "4da58006-a798-425b-a1ce-0c66f4643acb"
      },
      "source": [
        "final_pred[0:5]"
      ],
      "execution_count": 32,
      "outputs": [
        {
          "output_type": "execute_result",
          "data": {
            "text/plain": [
              "[1, 0, 1, 0, 1]"
            ]
          },
          "metadata": {
            "tags": []
          },
          "execution_count": 32
        }
      ]
    },
    {
      "cell_type": "code",
      "metadata": {
        "colab": {
          "base_uri": "https://localhost:8080/",
          "height": 204
        },
        "id": "D2wfMIPwpSWa",
        "outputId": "d97ea45a-577e-4d23-bb3a-d9b8e2c43dfe"
      },
      "source": [
        "pred=pd.DataFrame(final_pred)\n",
        "pred.head()"
      ],
      "execution_count": 33,
      "outputs": [
        {
          "output_type": "execute_result",
          "data": {
            "text/html": [
              "<div>\n",
              "<style scoped>\n",
              "    .dataframe tbody tr th:only-of-type {\n",
              "        vertical-align: middle;\n",
              "    }\n",
              "\n",
              "    .dataframe tbody tr th {\n",
              "        vertical-align: top;\n",
              "    }\n",
              "\n",
              "    .dataframe thead th {\n",
              "        text-align: right;\n",
              "    }\n",
              "</style>\n",
              "<table border=\"1\" class=\"dataframe\">\n",
              "  <thead>\n",
              "    <tr style=\"text-align: right;\">\n",
              "      <th></th>\n",
              "      <th>0</th>\n",
              "    </tr>\n",
              "  </thead>\n",
              "  <tbody>\n",
              "    <tr>\n",
              "      <th>0</th>\n",
              "      <td>1</td>\n",
              "    </tr>\n",
              "    <tr>\n",
              "      <th>1</th>\n",
              "      <td>0</td>\n",
              "    </tr>\n",
              "    <tr>\n",
              "      <th>2</th>\n",
              "      <td>1</td>\n",
              "    </tr>\n",
              "    <tr>\n",
              "      <th>3</th>\n",
              "      <td>0</td>\n",
              "    </tr>\n",
              "    <tr>\n",
              "      <th>4</th>\n",
              "      <td>1</td>\n",
              "    </tr>\n",
              "  </tbody>\n",
              "</table>\n",
              "</div>"
            ],
            "text/plain": [
              "   0\n",
              "0  1\n",
              "1  0\n",
              "2  1\n",
              "3  0\n",
              "4  1"
            ]
          },
          "metadata": {
            "tags": []
          },
          "execution_count": 33
        }
      ]
    },
    {
      "cell_type": "code",
      "metadata": {
        "id": "8AK2BCe5pkTC"
      },
      "source": [
        "dfid=pd.read_csv('/content/drive/MyDrive/Test.csv')\n",
        "dfid=dfid[['ID']]"
      ],
      "execution_count": 34,
      "outputs": []
    },
    {
      "cell_type": "code",
      "metadata": {
        "id": "6uaGC8zwp70z"
      },
      "source": [
        "df_sub=pd.concat([dfid,pred], axis=1)"
      ],
      "execution_count": 35,
      "outputs": []
    },
    {
      "cell_type": "code",
      "metadata": {
        "colab": {
          "base_uri": "https://localhost:8080/",
          "height": 204
        },
        "id": "4KHGwG5hqL-z",
        "outputId": "da0067e2-feed-4a12-f034-8f87cfa28931"
      },
      "source": [
        "df_sub.head()"
      ],
      "execution_count": 36,
      "outputs": [
        {
          "output_type": "execute_result",
          "data": {
            "text/html": [
              "<div>\n",
              "<style scoped>\n",
              "    .dataframe tbody tr th:only-of-type {\n",
              "        vertical-align: middle;\n",
              "    }\n",
              "\n",
              "    .dataframe tbody tr th {\n",
              "        vertical-align: top;\n",
              "    }\n",
              "\n",
              "    .dataframe thead th {\n",
              "        text-align: right;\n",
              "    }\n",
              "</style>\n",
              "<table border=\"1\" class=\"dataframe\">\n",
              "  <thead>\n",
              "    <tr style=\"text-align: right;\">\n",
              "      <th></th>\n",
              "      <th>ID</th>\n",
              "      <th>0</th>\n",
              "    </tr>\n",
              "  </thead>\n",
              "  <tbody>\n",
              "    <tr>\n",
              "      <th>0</th>\n",
              "      <td>009D84L</td>\n",
              "      <td>1</td>\n",
              "    </tr>\n",
              "    <tr>\n",
              "      <th>1</th>\n",
              "      <td>01DO2EQ</td>\n",
              "      <td>0</td>\n",
              "    </tr>\n",
              "    <tr>\n",
              "      <th>2</th>\n",
              "      <td>01QM0NU</td>\n",
              "      <td>1</td>\n",
              "    </tr>\n",
              "    <tr>\n",
              "      <th>3</th>\n",
              "      <td>024NJLZ</td>\n",
              "      <td>0</td>\n",
              "    </tr>\n",
              "    <tr>\n",
              "      <th>4</th>\n",
              "      <td>02BYET3</td>\n",
              "      <td>1</td>\n",
              "    </tr>\n",
              "  </tbody>\n",
              "</table>\n",
              "</div>"
            ],
            "text/plain": [
              "        ID  0\n",
              "0  009D84L  1\n",
              "1  01DO2EQ  0\n",
              "2  01QM0NU  1\n",
              "3  024NJLZ  0\n",
              "4  02BYET3  1"
            ]
          },
          "metadata": {
            "tags": []
          },
          "execution_count": 36
        }
      ]
    },
    {
      "cell_type": "code",
      "metadata": {
        "id": "2qCGiH5GqdZn"
      },
      "source": [
        "from google.colab import files\n",
        "df_sub.to_csv('./ok4.csv', sep = ',', index = False)"
      ],
      "execution_count": 37,
      "outputs": []
    },
    {
      "cell_type": "code",
      "metadata": {
        "colab": {
          "base_uri": "https://localhost:8080/",
          "height": 17
        },
        "id": "gk2F4AE3qi92",
        "outputId": "bf96413f-9457-4bd3-9c7d-bfb4113b87b0"
      },
      "source": [
        "files.download('ok4.csv')"
      ],
      "execution_count": 38,
      "outputs": [
        {
          "output_type": "display_data",
          "data": {
            "application/javascript": [
              "\n",
              "    async function download(id, filename, size) {\n",
              "      if (!google.colab.kernel.accessAllowed) {\n",
              "        return;\n",
              "      }\n",
              "      const div = document.createElement('div');\n",
              "      const label = document.createElement('label');\n",
              "      label.textContent = `Downloading \"${filename}\": `;\n",
              "      div.appendChild(label);\n",
              "      const progress = document.createElement('progress');\n",
              "      progress.max = size;\n",
              "      div.appendChild(progress);\n",
              "      document.body.appendChild(div);\n",
              "\n",
              "      const buffers = [];\n",
              "      let downloaded = 0;\n",
              "\n",
              "      const channel = await google.colab.kernel.comms.open(id);\n",
              "      // Send a message to notify the kernel that we're ready.\n",
              "      channel.send({})\n",
              "\n",
              "      for await (const message of channel.messages) {\n",
              "        // Send a message to notify the kernel that we're ready.\n",
              "        channel.send({})\n",
              "        if (message.buffers) {\n",
              "          for (const buffer of message.buffers) {\n",
              "            buffers.push(buffer);\n",
              "            downloaded += buffer.byteLength;\n",
              "            progress.value = downloaded;\n",
              "          }\n",
              "        }\n",
              "      }\n",
              "      const blob = new Blob(buffers, {type: 'application/binary'});\n",
              "      const a = document.createElement('a');\n",
              "      a.href = window.URL.createObjectURL(blob);\n",
              "      a.download = filename;\n",
              "      div.appendChild(a);\n",
              "      a.click();\n",
              "      div.remove();\n",
              "    }\n",
              "  "
            ],
            "text/plain": [
              "<IPython.core.display.Javascript object>"
            ]
          },
          "metadata": {
            "tags": []
          }
        },
        {
          "output_type": "display_data",
          "data": {
            "application/javascript": [
              "download(\"download_ea8cd963-ee21-4af3-a5a6-e0bf8f5dbd19\", \"ok4.csv\", 51775)"
            ],
            "text/plain": [
              "<IPython.core.display.Javascript object>"
            ]
          },
          "metadata": {
            "tags": []
          }
        }
      ]
    }
  ]
}